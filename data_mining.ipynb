{
 "cells": [
  {
   "cell_type": "markdown",
   "metadata": {},
   "source": [
    "This file is execute data mining from https://www.football-data.org/\n",
    "The following sections of code focuses on writing reuests to extract data using APIs (of the above website). The aim of this notebook is to generate json files."
   ]
  },
  {
   "cell_type": "code",
   "execution_count": 29,
   "metadata": {},
   "outputs": [],
   "source": [
    "import requests\n",
    "import json\n",
    "import os"
   ]
  },
  {
   "cell_type": "code",
   "execution_count": 30,
   "metadata": {},
   "outputs": [
    {
     "data": {
      "text/plain": [
       "'c:\\\\Users\\\\pragn\\\\OneDrive\\\\Documents\\\\football_analytics_git\\\\football_analytics'"
      ]
     },
     "execution_count": 30,
     "metadata": {},
     "output_type": "execute_result"
    }
   ],
   "source": [
    "os.getcwd()"
   ]
  },
  {
   "cell_type": "code",
   "execution_count": 31,
   "metadata": {},
   "outputs": [],
   "source": [
    "##Reading api_key and defning headers\n",
    "\n",
    "with open('./api_key.txt', 'r') as file:\n",
    "    api_key = file.read()\n",
    "\n",
    "api_key = api_key\n",
    "headers = {\n",
    "    \"X-Auth-Token\": api_key\n",
    "}"
   ]
  },
  {
   "cell_type": "markdown",
   "metadata": {},
   "source": [
    "On a surface level, I was able to see the folloiwng tables whose functions are self explanatory:\n",
    "\n",
    "1) Matches\n",
    "2) Areas\n",
    "3) teams\n",
    "4) Competitions\n",
    "\n",
    "Matches being the the main - fact table; whereas ret of the tables being dimensions tables."
   ]
  },
  {
   "cell_type": "markdown",
   "metadata": {},
   "source": [
    "#### Matches table"
   ]
  },
  {
   "cell_type": "markdown",
   "metadata": {},
   "source": [
    "Note to self: One of the components of the API request is filters. Filters can be the prameteres and filters can be something like start_date; end_date etc. Or extracting specific data.\n",
    "\n",
    "For the current project, we only have an option of accessing data for 10 days (because my current plan for api (the free one) allows only 10 days.)\n",
    "\n",
    "Because of this reason, the range/period of 10 days are given in the filters section of AIPI request.\n",
    "\n",
    "The other parts of parameters include: LIMIT, OFFSET etc"
   ]
  },
  {
   "cell_type": "code",
   "execution_count": 32,
   "metadata": {},
   "outputs": [],
   "source": [
    "matches_url = 'https://api.football-data.org/v4/matches'\n",
    "\n",
    "\n",
    "\n",
    "#### Match Info -----------------------------------\n",
    "\n",
    "start_date = '2024-09-20'\n",
    "end_date = '2024-09-29'\n",
    "\n",
    "#params is a ditionary\n",
    "match_params = {\n",
    "    \"dateFrom\": f\"{start_date}\",\n",
    "    \"dateTo\": f\"{end_date}\"\n",
    "}\n",
    "\n",
    "\n",
    "match_response = requests.get(matches_url, headers=headers, params = match_params)\n",
    "\n",
    "if match_response.status_code == 200:\n",
    "\n",
    "    match_data = match_response.json()\n",
    "\n",
    "    with open(f'./extracted_data/match_data{start_date}to{end_date}.json', 'w') as f:\n",
    "        json.dump(match_data, f, indent=4)\n",
    "else:\n",
    "    print('some_error')"
   ]
  },
  {
   "cell_type": "markdown",
   "metadata": {},
   "source": [
    "#### Teams table"
   ]
  },
  {
   "cell_type": "code",
   "execution_count": 33,
   "metadata": {},
   "outputs": [],
   "source": [
    "### teams info -----------------------\n",
    "\n",
    "teams_url = 'http://api.football-data.org/v4/teams/'\n",
    "\n",
    "teams_params = {\n",
    "    'limit': '10000'\n",
    "}\n",
    "\n",
    "teams_response = requests.get(teams_url, headers=headers,params = teams_params)\n",
    "\n",
    "if teams_response.status_code == 200:\n",
    "\n",
    "    teams_data = teams_response.json()\n",
    "\n",
    "    with open(f'./extracted_data/teams_data.json', 'w') as f:\n",
    "        json.dump(teams_data, f, indent=4)\n",
    "else:\n",
    "    print('some_error')"
   ]
  },
  {
   "cell_type": "markdown",
   "metadata": {},
   "source": [
    "#### Areas table"
   ]
  },
  {
   "cell_type": "code",
   "execution_count": 34,
   "metadata": {},
   "outputs": [],
   "source": [
    "area_url = 'http://api.football-data.org/v4/areas/'\n",
    "area_response = requests.get(area_url, headers=headers)\n",
    "\n",
    "if area_response.status_code == 200:\n",
    "\n",
    "    area_data = area_response.json()\n",
    "\n",
    "    with open(f'./extracted_data/area_data.json', 'w') as f:\n",
    "        json.dump(area_data, f, indent=4)\n",
    "else:\n",
    "    print('some_error')"
   ]
  },
  {
   "cell_type": "markdown",
   "metadata": {},
   "source": [
    "#### Competitions"
   ]
  },
  {
   "cell_type": "code",
   "execution_count": 35,
   "metadata": {},
   "outputs": [],
   "source": [
    "#### Competitions info ------\n",
    "\n",
    "comp_url = 'http://api.football-data.org/v4/competitions/'\n",
    "\n",
    "comp_response = requests.get(comp_url, headers=headers)\n",
    "\n",
    "\n",
    "if comp_response.status_code == 200:\n",
    "\n",
    "    comp_data = comp_response.json()\n",
    "\n",
    "    with open(f'./extracted_data/comp_data.json', 'w') as f:\n",
    "        json.dump(comp_data, f, indent=4)\n",
    "else:\n",
    "    print('some_error')\n"
   ]
  }
 ],
 "metadata": {
  "kernelspec": {
   "display_name": "base",
   "language": "python",
   "name": "python3"
  },
  "language_info": {
   "codemirror_mode": {
    "name": "ipython",
    "version": 3
   },
   "file_extension": ".py",
   "mimetype": "text/x-python",
   "name": "python",
   "nbconvert_exporter": "python",
   "pygments_lexer": "ipython3",
   "version": "3.9.13"
  }
 },
 "nbformat": 4,
 "nbformat_minor": 2
}
