{
 "cells": [
  {
   "cell_type": "code",
   "execution_count": 2,
   "metadata": {},
   "outputs": [],
   "source": [
    "import requests\n",
    "import json\n",
    "import os\n",
    "from datetime import datetime, timedelta"
   ]
  },
  {
   "cell_type": "code",
   "execution_count": 4,
   "metadata": {},
   "outputs": [],
   "source": [
    "os.getcwd()\n",
    "\n",
    "##Reading api_key and defning headers\n",
    "\n",
    "with open('./api_key.txt', 'r') as file:\n",
    "    api_key = file.read()\n",
    "\n",
    "api_key = api_key\n",
    "headers = {\n",
    "    \"X-Auth-Token\": api_key\n",
    "}"
   ]
  },
  {
   "cell_type": "code",
   "execution_count": 5,
   "metadata": {},
   "outputs": [
    {
     "name": "stdout",
     "output_type": "stream",
     "text": [
      "2024-08-09\n",
      "2024-08-09\n"
     ]
    }
   ],
   "source": [
    "matches_url = 'https://api.football-data.org/v4/matches'\n",
    "\n",
    "#### Match Info -----------------------------------\n",
    "\n",
    "# Example date in datetime format\n",
    "start_date = datetime(2024, 8, 9) # year, month, day\n",
    "\n",
    "date_plus_one_week = start_date + timedelta(weeks=1)\n",
    "\n",
    "start_date = start_date.strftime(\"%Y-%m-%d\")\n",
    "# end_date = date_plus_one_week.strftime(\"%Y-%m-%d\")\n",
    "end_date = start_date\n",
    "\n",
    "print(start_date)\n",
    "print(end_date)\n",
    "\n",
    "#params is a ditionary\n",
    "match_params = {\n",
    "    \"dateFrom\": f\"{start_date}\",\n",
    "    \"dateTo\": f\"{end_date}\"\n",
    "}\n",
    "\n",
    "\n",
    "match_response = requests.get(matches_url, headers=headers, params = match_params)\n",
    "\n",
    "if match_response.status_code == 200:\n",
    "\n",
    "    match_data = match_response.json()\n",
    "\n",
    "    with open(f'./extracted_data/match_data{start_date}to{end_date}.json', 'w') as f:\n",
    "        json.dump(match_data, f, indent=4)\n",
    "else:\n",
    "    print('some_error')"
   ]
  }
 ],
 "metadata": {
  "kernelspec": {
   "display_name": "base",
   "language": "python",
   "name": "python3"
  },
  "language_info": {
   "codemirror_mode": {
    "name": "ipython",
    "version": 3
   },
   "file_extension": ".py",
   "mimetype": "text/x-python",
   "name": "python",
   "nbconvert_exporter": "python",
   "pygments_lexer": "ipython3",
   "version": "3.9.13"
  }
 },
 "nbformat": 4,
 "nbformat_minor": 2
}
